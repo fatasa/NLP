{
  "nbformat": 4,
  "nbformat_minor": 0,
  "metadata": {
    "colab": {
      "provenance": [],
      "authorship_tag": "ABX9TyP29MSB7mgTBlSegoEeReuP",
      "include_colab_link": true
    },
    "kernelspec": {
      "name": "python3",
      "display_name": "Python 3"
    },
    "language_info": {
      "name": "python"
    }
  },
  "cells": [
    {
      "cell_type": "markdown",
      "metadata": {
        "id": "view-in-github",
        "colab_type": "text"
      },
      "source": [
        "<a href=\"https://colab.research.google.com/github/fatasa/NLP/blob/main/NLP_Latihan_Tokenize.ipynb\" target=\"_parent\"><img src=\"https://colab.research.google.com/assets/colab-badge.svg\" alt=\"Open In Colab\"/></a>"
      ]
    },
    {
      "cell_type": "code",
      "source": [
        "import re"
      ],
      "metadata": {
        "id": "reVDm_X19Ztr"
      },
      "execution_count": null,
      "outputs": []
    },
    {
      "cell_type": "code",
      "execution_count": null,
      "metadata": {
        "id": "n6MvB2au6Bvq"
      },
      "outputs": [],
      "source": [
        "text=\"Pasukan yang membantu penyelamatan mengaku terkesan dengan keakuratan dan kelengkapan informasi yang termasuk dalam peringatan awal, dengan fitur SOS Darurat melalui Satelit. Seperti diketahui Satelit Darurat melalui SOS tersedia untuk semua pengguna iPhone 14, dan dapat diaktifkan saat situasi darurat terjadi dan tidak tersedia koneksi WiFi atau seluler. Fitur ini gratis untuk digunakan selama dua tahun, dan Apple belum memberikan detail berapa biayanya ke depan. Fitur tersebut mulai bisa digunakan sejak update iOS 16.1. Hanya saja saat ini hanya tersedia di Amerika Utara, segera diperluas ke Prancis, Jerman, Irlandia dan Inggris.\""
      ]
    },
    {
      "cell_type": "code",
      "source": [
        "text"
      ],
      "metadata": {
        "colab": {
          "base_uri": "https://localhost:8080/",
          "height": 104
        },
        "id": "wtzYU17J7hvE",
        "outputId": "43bf7a82-6a2e-4d2c-c1d8-fb4af11cfa59"
      },
      "execution_count": null,
      "outputs": [
        {
          "output_type": "execute_result",
          "data": {
            "text/plain": [
              "'Pasukan yang membantu penyelamatan mengaku terkesan dengan keakuratan dan kelengkapan informasi yang termasuk dalam peringatan awal, dengan fitur SOS Darurat melalui Satelit. Seperti diketahui Satelit Darurat melalui SOS tersedia untuk semua pengguna iPhone 14, dan dapat diaktifkan saat situasi darurat terjadi dan tidak tersedia koneksi WiFi atau seluler. Fitur ini gratis untuk digunakan selama dua tahun, dan Apple belum memberikan detail berapa biayanya ke depan. Fitur tersebut mulai bisa digunakan sejak update iOS 16.1. Hanya saja saat ini hanya tersedia di Amerika Utara, segera diperluas ke Prancis, Jerman, Irlandia dan Inggris.'"
            ],
            "application/vnd.google.colaboratory.intrinsic+json": {
              "type": "string"
            }
          },
          "metadata": {},
          "execution_count": 26
        }
      ]
    },
    {
      "cell_type": "code",
      "source": [
        "#mengubah kata dalam text menjadi lowercase\n",
        "ubahHurufKecil=text.lower()\n",
        "#menghapus karakter selain huruf\n",
        "hapusSelainHuruf=re.sub(r'([^A-Za-z0-9\\/\\.]+)','',ubahHurufKecil)\n",
        "token=re.split(r'\\s+', text)\n",
        "token"
      ],
      "metadata": {
        "colab": {
          "base_uri": "https://localhost:8080/"
        },
        "id": "EPQik9vu9irj",
        "outputId": "f795e988-4a1d-4c70-8d51-782ad41e7a05"
      },
      "execution_count": null,
      "outputs": [
        {
          "output_type": "execute_result",
          "data": {
            "text/plain": [
              "['Pasukan',\n",
              " 'yang',\n",
              " 'membantu',\n",
              " 'penyelamatan',\n",
              " 'mengaku',\n",
              " 'terkesan',\n",
              " 'dengan',\n",
              " 'keakuratan',\n",
              " 'dan',\n",
              " 'kelengkapan',\n",
              " 'informasi',\n",
              " 'yang',\n",
              " 'termasuk',\n",
              " 'dalam',\n",
              " 'peringatan',\n",
              " 'awal,',\n",
              " 'dengan',\n",
              " 'fitur',\n",
              " 'SOS',\n",
              " 'Darurat',\n",
              " 'melalui',\n",
              " 'Satelit.',\n",
              " 'Seperti',\n",
              " 'diketahui',\n",
              " 'Satelit',\n",
              " 'Darurat',\n",
              " 'melalui',\n",
              " 'SOS',\n",
              " 'tersedia',\n",
              " 'untuk',\n",
              " 'semua',\n",
              " 'pengguna',\n",
              " 'iPhone',\n",
              " '14,',\n",
              " 'dan',\n",
              " 'dapat',\n",
              " 'diaktifkan',\n",
              " 'saat',\n",
              " 'situasi',\n",
              " 'darurat',\n",
              " 'terjadi',\n",
              " 'dan',\n",
              " 'tidak',\n",
              " 'tersedia',\n",
              " 'koneksi',\n",
              " 'WiFi',\n",
              " 'atau',\n",
              " 'seluler.',\n",
              " 'Fitur',\n",
              " 'ini',\n",
              " 'gratis',\n",
              " 'untuk',\n",
              " 'digunakan',\n",
              " 'selama',\n",
              " 'dua',\n",
              " 'tahun,',\n",
              " 'dan',\n",
              " 'Apple',\n",
              " 'belum',\n",
              " 'memberikan',\n",
              " 'detail',\n",
              " 'berapa',\n",
              " 'biayanya',\n",
              " 'ke',\n",
              " 'depan.',\n",
              " 'Fitur',\n",
              " 'tersebut',\n",
              " 'mulai',\n",
              " 'bisa',\n",
              " 'digunakan',\n",
              " 'sejak',\n",
              " 'update',\n",
              " 'iOS',\n",
              " '16.1.',\n",
              " 'Hanya',\n",
              " 'saja',\n",
              " 'saat',\n",
              " 'ini',\n",
              " 'hanya',\n",
              " 'tersedia',\n",
              " 'di',\n",
              " 'Amerika',\n",
              " 'Utara,',\n",
              " 'segera',\n",
              " 'diperluas',\n",
              " 'ke',\n",
              " 'Prancis,',\n",
              " 'Jerman,',\n",
              " 'Irlandia',\n",
              " 'dan',\n",
              " 'Inggris.']"
            ]
          },
          "metadata": {},
          "execution_count": 34
        }
      ]
    },
    {
      "cell_type": "code",
      "source": [
        "token"
      ],
      "metadata": {
        "colab": {
          "base_uri": "https://localhost:8080/"
        },
        "id": "A4knqTMSF2_f",
        "outputId": "8258a633-4fce-4f52-81c8-2a78b064a4bb"
      },
      "execution_count": null,
      "outputs": [
        {
          "output_type": "execute_result",
          "data": {
            "text/plain": [
              "['Pasukan',\n",
              " 'yang',\n",
              " 'membantu',\n",
              " 'penyelamatan',\n",
              " 'mengaku',\n",
              " 'terkesan',\n",
              " 'dengan',\n",
              " 'keakuratan',\n",
              " 'dan',\n",
              " 'kelengkapan',\n",
              " 'informasi',\n",
              " 'yang',\n",
              " 'termasuk',\n",
              " 'dalam',\n",
              " 'peringatan',\n",
              " 'awal,',\n",
              " 'dengan',\n",
              " 'fitur',\n",
              " 'SOS',\n",
              " 'Darurat',\n",
              " 'melalui',\n",
              " 'Satelit.',\n",
              " 'Seperti',\n",
              " 'diketahui',\n",
              " 'Satelit',\n",
              " 'Darurat',\n",
              " 'melalui',\n",
              " 'SOS',\n",
              " 'tersedia',\n",
              " 'untuk',\n",
              " 'semua',\n",
              " 'pengguna',\n",
              " 'iPhone',\n",
              " '14,',\n",
              " 'dan',\n",
              " 'dapat',\n",
              " 'diaktifkan',\n",
              " 'saat',\n",
              " 'situasi',\n",
              " 'darurat',\n",
              " 'terjadi',\n",
              " 'dan',\n",
              " 'tidak',\n",
              " 'tersedia',\n",
              " 'koneksi',\n",
              " 'WiFi',\n",
              " 'atau',\n",
              " 'seluler.',\n",
              " 'Fitur',\n",
              " 'ini',\n",
              " 'gratis',\n",
              " 'untuk',\n",
              " 'digunakan',\n",
              " 'selama',\n",
              " 'dua',\n",
              " 'tahun,',\n",
              " 'dan',\n",
              " 'Apple',\n",
              " 'belum',\n",
              " 'memberikan',\n",
              " 'detail',\n",
              " 'berapa',\n",
              " 'biayanya',\n",
              " 'ke',\n",
              " 'depan.',\n",
              " 'Fitur',\n",
              " 'tersebut',\n",
              " 'mulai',\n",
              " 'bisa',\n",
              " 'digunakan',\n",
              " 'sejak',\n",
              " 'update',\n",
              " 'iOS',\n",
              " '16.1.',\n",
              " 'Hanya',\n",
              " 'saja',\n",
              " 'saat',\n",
              " 'ini',\n",
              " 'hanya',\n",
              " 'tersedia',\n",
              " 'di',\n",
              " 'Amerika',\n",
              " 'Utara,',\n",
              " 'segera',\n",
              " 'diperluas',\n",
              " 'ke',\n",
              " 'Prancis,',\n",
              " 'Jerman,',\n",
              " 'Irlandia',\n",
              " 'dan',\n",
              " 'Inggris.']"
            ]
          },
          "metadata": {},
          "execution_count": 35
        }
      ]
    },
    {
      "cell_type": "code",
      "source": [
        "len(token)"
      ],
      "metadata": {
        "colab": {
          "base_uri": "https://localhost:8080/"
        },
        "id": "c-8helEl-rsY",
        "outputId": "348f25c4-3300-450c-ecce-9cba508e9166"
      },
      "execution_count": null,
      "outputs": [
        {
          "output_type": "execute_result",
          "data": {
            "text/plain": [
              "91"
            ]
          },
          "metadata": {},
          "execution_count": 36
        }
      ]
    },
    {
      "cell_type": "code",
      "source": [
        "#menghilangkan kata yang sama dan mengurutkan\n",
        "set(token)"
      ],
      "metadata": {
        "colab": {
          "base_uri": "https://localhost:8080/"
        },
        "id": "bzt0vURs-tt5",
        "outputId": "2f29b89a-e159-4caa-c31d-9840aae14b8c"
      },
      "execution_count": null,
      "outputs": [
        {
          "output_type": "execute_result",
          "data": {
            "text/plain": [
              "{'14,',\n",
              " '16.1.',\n",
              " 'Amerika',\n",
              " 'Apple',\n",
              " 'Darurat',\n",
              " 'Fitur',\n",
              " 'Hanya',\n",
              " 'Inggris.',\n",
              " 'Irlandia',\n",
              " 'Jerman,',\n",
              " 'Pasukan',\n",
              " 'Prancis,',\n",
              " 'SOS',\n",
              " 'Satelit',\n",
              " 'Satelit.',\n",
              " 'Seperti',\n",
              " 'Utara,',\n",
              " 'WiFi',\n",
              " 'atau',\n",
              " 'awal,',\n",
              " 'belum',\n",
              " 'berapa',\n",
              " 'biayanya',\n",
              " 'bisa',\n",
              " 'dalam',\n",
              " 'dan',\n",
              " 'dapat',\n",
              " 'darurat',\n",
              " 'dengan',\n",
              " 'depan.',\n",
              " 'detail',\n",
              " 'di',\n",
              " 'diaktifkan',\n",
              " 'digunakan',\n",
              " 'diketahui',\n",
              " 'diperluas',\n",
              " 'dua',\n",
              " 'fitur',\n",
              " 'gratis',\n",
              " 'hanya',\n",
              " 'iOS',\n",
              " 'iPhone',\n",
              " 'informasi',\n",
              " 'ini',\n",
              " 'ke',\n",
              " 'keakuratan',\n",
              " 'kelengkapan',\n",
              " 'koneksi',\n",
              " 'melalui',\n",
              " 'membantu',\n",
              " 'memberikan',\n",
              " 'mengaku',\n",
              " 'mulai',\n",
              " 'pengguna',\n",
              " 'penyelamatan',\n",
              " 'peringatan',\n",
              " 'saat',\n",
              " 'saja',\n",
              " 'segera',\n",
              " 'sejak',\n",
              " 'selama',\n",
              " 'seluler.',\n",
              " 'semua',\n",
              " 'situasi',\n",
              " 'tahun,',\n",
              " 'terjadi',\n",
              " 'terkesan',\n",
              " 'termasuk',\n",
              " 'tersebut',\n",
              " 'tersedia',\n",
              " 'tidak',\n",
              " 'untuk',\n",
              " 'update',\n",
              " 'yang'}"
            ]
          },
          "metadata": {},
          "execution_count": 37
        }
      ]
    },
    {
      "cell_type": "code",
      "source": [
        "len(set(token))"
      ],
      "metadata": {
        "colab": {
          "base_uri": "https://localhost:8080/"
        },
        "id": "LT-SKewm_ktl",
        "outputId": "7c14a14f-0031-4348-ff61-3ad4e4edea5a"
      },
      "execution_count": null,
      "outputs": [
        {
          "output_type": "execute_result",
          "data": {
            "text/plain": [
              "74"
            ]
          },
          "metadata": {},
          "execution_count": 38
        }
      ]
    },
    {
      "cell_type": "code",
      "source": [
        "frekuensiKata = {}\n",
        "for kata in token:\n",
        "  hitung = frekuensiKata.get(kata,0)\n",
        "  frekuensiKata[kata] = hitung+1\n",
        "\n",
        "list_frekuensi = frekuensiKata.keys()\n",
        "\n",
        "for kata in list_frekuensi:\n",
        "  print(kata,frekuensiKata[kata])"
      ],
      "metadata": {
        "colab": {
          "base_uri": "https://localhost:8080/"
        },
        "id": "sP8X4m14AySF",
        "outputId": "ed7a6145-bf96-425f-ad57-5e1fc7d6afb4"
      },
      "execution_count": null,
      "outputs": [
        {
          "output_type": "stream",
          "name": "stdout",
          "text": [
            "Pasukan 1\n",
            "yang 2\n",
            "membantu 1\n",
            "penyelamatan 1\n",
            "mengaku 1\n",
            "terkesan 1\n",
            "dengan 2\n",
            "keakuratan 1\n",
            "dan 5\n",
            "kelengkapan 1\n",
            "informasi 1\n",
            "termasuk 1\n",
            "dalam 1\n",
            "peringatan 1\n",
            "awal, 1\n",
            "fitur 1\n",
            "SOS 2\n",
            "Darurat 2\n",
            "melalui 2\n",
            "Satelit. 1\n",
            "Seperti 1\n",
            "diketahui 1\n",
            "Satelit 1\n",
            "tersedia 3\n",
            "untuk 2\n",
            "semua 1\n",
            "pengguna 1\n",
            "iPhone 1\n",
            "14, 1\n",
            "dapat 1\n",
            "diaktifkan 1\n",
            "saat 2\n",
            "situasi 1\n",
            "darurat 1\n",
            "terjadi 1\n",
            "tidak 1\n",
            "koneksi 1\n",
            "WiFi 1\n",
            "atau 1\n",
            "seluler. 1\n",
            "Fitur 2\n",
            "ini 2\n",
            "gratis 1\n",
            "digunakan 2\n",
            "selama 1\n",
            "dua 1\n",
            "tahun, 1\n",
            "Apple 1\n",
            "belum 1\n",
            "memberikan 1\n",
            "detail 1\n",
            "berapa 1\n",
            "biayanya 1\n",
            "ke 2\n",
            "depan. 1\n",
            "tersebut 1\n",
            "mulai 1\n",
            "bisa 1\n",
            "sejak 1\n",
            "update 1\n",
            "iOS 1\n",
            "16.1. 1\n",
            "Hanya 1\n",
            "saja 1\n",
            "hanya 1\n",
            "di 1\n",
            "Amerika 1\n",
            "Utara, 1\n",
            "segera 1\n",
            "diperluas 1\n",
            "Prancis, 1\n",
            "Jerman, 1\n",
            "Irlandia 1\n",
            "Inggris. 1\n"
          ]
        }
      ]
    }
  ]
}